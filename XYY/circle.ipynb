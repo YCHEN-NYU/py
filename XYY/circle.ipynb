{
 "cells": [
  {
   "cell_type": "code",
   "execution_count": 9,
   "metadata": {
    "collapsed": true
   },
   "outputs": [],
   "source": [
    "\"\"\"\n",
    "Simple demo of the fill function.\n",
    "\"\"\"\n",
    "import numpy as np\n",
    "import matplotlib.pyplot as plt\n",
    "from matplotlib import cm\n",
    "from matplotlib import rc\n",
    "\n",
    "% matplotlib inline\n",
    "\n",
    "# use of polar(theta, r)\n",
    "# title, x-axis label, y-axis label\n",
    "titlename = r'$S_{12}-H_{//}$'\n",
    "\n",
    "x1_labelname = r'$H_{//}(T)$'\n",
    "y1_labelname = r'$S_{12}^{real}$'\n",
    "\n",
    "\n",
    "\n",
    "\n",
    "fontLabel = 14\n",
    "fontAxis = 24\n",
    "fontTitle = 28\n",
    "\n",
    "colors = cm.hsv(np.linspace(0,1,10))\n",
    "\n",
    "theta = np.linspace(-np.pi, np.pi,100)\n",
    "# r = \n",
    "fig = plt.figure(figsize=(8,6),facecolor=\"white\")\n",
    "ax = plt.subplot(111)\n",
    "\n",
    "for i in range(0,2):\n",
    "    r = [np.sin(theta), np.cos(theta)]\n",
    "    plt.polar(theta, r, color=colors[1])\n",
    "\n",
    "# ax.set_xlim(-np.pi, np.pi)\n",
    "# ax.set_ylim(-1, 1)\n",
    "# rc('font', size=fontAxis)\n",
    "\n",
    "# plt.xlabel('$x$', fontsize=fontAxis, fontweight='bold')\n",
    "# plt.ylabel('$y$', fontsize=fontAxis, fontweight='bold')\n",
    "# plt.title('$ y = f(x) $', fontsize=fontTitle, fontweight='bold')\n",
    "plt.grid(False)\n",
    "plt.hold(True)\n",
    "plt.show()"
   ]
  },
  {
   "cell_type": "heading",
   "metadata": {},
   "level": 1,
   "source": [
    "Ellipse"
   ]
  },
  {
   "cell_type": "code",
   "execution_count": 10,
   "metadata": {},
   "outputs": [],
   "source": [
    "import matplotlib.pyplot as plt\n",
    "import numpy.random as rnd\n",
    "from matplotlib.patches import Ellipse\n",
    "%matplotlib inline\n",
    "\n",
    "NUM = 250\n",
    "\n",
    "ells = [Ellipse(xy=rnd.rand(2)*10, width=rnd.rand(), \n",
    "                height=rnd.rand(), angle=rnd.rand()*360)\n",
    "        for i in range(NUM)]\n",
    "\n",
    "fig = plt.figure(figsize=(8,6))\n",
    "ax = fig.add_subplot(111, aspect='equal')\n",
    "for e in ells:\n",
    "    ax.add_artist(e)\n",
    "    e.set_clip_box(ax.bbox)\n",
    "    e.set_alpha(rnd.rand())\n",
    "    e.set_facecolor(rnd.rand(3))\n",
    "\n",
    "ax.set_xlim(0, 10)\n",
    "ax.set_ylim(0, 10)\n",
    "plt.axis('off')\n",
    "plt.show()"
   ]
  },
  {
   "cell_type": "code",
   "execution_count": null,
   "metadata": {},
   "outputs": [],
   "source": [
    ""
   ]
  },
  {
   "cell_type": "code",
   "execution_count": null,
   "metadata": {},
   "outputs": [],
   "source": [
    ""
   ]
  }
 ],
 "metadata": {
  "kernelspec": {
   "display_name": "Python 2",
   "language": "python",
   "name": "python2"
  },
  "language_info": {
   "codemirror_mode": {
    "name": "ipython",
    "version": 2.0
   },
   "file_extension": ".py",
   "mimetype": "text/x-python",
   "name": "python",
   "nbconvert_exporter": "python",
   "pygments_lexer": "ipython2",
   "version": "2.7.6"
  }
 },
 "nbformat": 4,
 "nbformat_minor": 0
}