{
 "cells": [
  {
   "cell_type": "code",
   "execution_count": 1,
   "metadata": {
    "collapsed": true
   },
   "outputs": [
    {
     "ename": "SyntaxError",
     "evalue": "invalid syntax (<ipython-input-1-49874fa6ff44>, line 9)",
     "traceback": [
      "\u001b[0;36m  File \u001b[0;32m\"<ipython-input-1-49874fa6ff44>\"\u001b[0;36m, line \u001b[0;32m9\u001b[0m\n\u001b[0;31m    colortable = cm.hsv(np.arange(0,1,N+))\u001b[0m\n\u001b[0m                                        ^\u001b[0m\n\u001b[0;31mSyntaxError\u001b[0m\u001b[0;31m:\u001b[0m invalid syntax\n"
     ],
     "output_type": "error"
    }
   ],
   "source": [
    "import numpy as np\n",
    "import matplotlib.pyplot as plt\n",
    "from matplotlib import rc\n",
    "from matplotlib import cm \n",
    "import os\n",
    "%matplotlib inline\n",
    "# ===================\n",
    "N = 10\n",
    "colortable = cm.hsv(np.arange(0,1,N+))\n",
    "markertable = ['o', 's', 'v', '^', 'o', 's', 'v',\n",
    "               '^', 'o', 's', 'v', '^', 'o', 's', 'v', '^'\n",
    "                 'o', 's', 'v', '^', 'o', 's', 'v',\n",
    "               '^', 'o', 's', 'v', '^', 'o', 's', 'v', '^']\n",
    "\n",
    "# move to the target folder\n",
    "path = '/home/eason/PycharmProjects/data_FMR/STT5438_6degree_500ms_2'\n",
    "os.chdir(path)\n",
    "\n",
    "# get filenames in the folder\n",
    "frequency = 20\n",
    "suf = \"000MHz\"\n",
    "filename = str(frequency)+suf\n",
    "fileformat = '_' + str(frequency) + '000MHz.dat'\n",
    "\n",
    "i = 0\n",
    "fig = plt.figure(figsize = (8, 6), facecolor='white')\n",
    "fontTitle = 20\n",
    "fontLabel = 18\n",
    "fontAxis = 14\n",
    "for file in os.listdir('.'):\n",
    "    if file.endswith(fileformat):\n",
    "        f = file\n",
    "        # Load data files into x, y\n",
    "\n",
    "        rawdata = []\n",
    "        for line in open(f, 'r').readlines():\n",
    "            rawdata.append(line.split())\n",
    "\n",
    "        \n",
    "        del rawdata[len(rawdata)-1]  # remove last data point\n",
    "\n",
    "        # 1 --> H, 6 --> S12_real, 7 --> S12_imag\n",
    "        indexH = 1\n",
    "        indexS12_real = 6\n",
    "\n",
    "        H = []\n",
    "        S12_real = []\n",
    "\n",
    "        for element in rawdata[:]:\n",
    "            H.append(element[indexH])\n",
    "            S12_real.append(element[indexS12_real])\n",
    "        x = H\n",
    "        y = S12_real\n",
    "\n",
    "        # Plot out x-y\n",
    "        xlabelname = r'$H_{//}(T)$'\n",
    "        ylabelname = r'$S_{12}^{real}$'\n",
    "        titlename = r'$S_{12}^{real}-H_{//}$'\n",
    "\n",
    "        ax = fig.add_subplot(111)\n",
    "        rc('font', size=fontAxis)\n",
    "        \n",
    "        plt.hold(True)\n",
    "        lines = plt.plot(x, y)\n",
    "        plt.setp(lines, color=colortable[i], linewidth=2.0)\n",
    "\n",
    "        plt.setp(lines, color=colortable[i], linewidth=2.0)\n",
    "        plt.xlabel(xlabelname, fontsize=fontLabel, fontweight='bold')\n",
    "        plt.ylabel(ylabelname, fontsize=fontLabel, fontweight='bold')\n",
    "        plt.title(titlename, fontsize=fontTitle, fontweight='bold')\n",
    "        plt.grid(True)\n",
    "        plt.hold(True)\n",
    "        plt.show()\n",
    "\n",
    "        xmin = round(float(min(x)), 2)\n",
    "        xmax = round(float(max(x)), 2)\n",
    "        ymin = round(float(min(y)), 4)\n",
    "        ymax = round(float(max(y)), 4)\n",
    "\n",
    "        ax.set_xlim(xmin-(xmax-xmin)*0.1, xmax+(xmax-xmin)*0.1)\n",
    "        ax.set_ylim(ymin - (ymax - ymin) * 0.1, ymax + (ymax - ymin) * 0.1)\n",
    "        # ax.annotate(r'$x-y$', xy=(xmax*0.1, ymax-(ymax-ymin)*0.1))\n",
    "        i = i + 1\n",
    "\n",
    "plt.show()"
   ]
  },
  {
   "cell_type": "code",
   "execution_count": null,
   "metadata": {},
   "outputs": [],
   "source": [
    ""
   ]
  }
 ],
 "metadata": {
  "kernelspec": {
   "display_name": "Python 2",
   "language": "python",
   "name": "python2"
  },
  "language_info": {
   "codemirror_mode": {
    "name": "ipython",
    "version": 2.0
   },
   "file_extension": ".py",
   "mimetype": "text/x-python",
   "name": "python",
   "nbconvert_exporter": "python",
   "pygments_lexer": "ipython2",
   "version": "2.7.6"
  }
 },
 "nbformat": 4,
 "nbformat_minor": 0
}